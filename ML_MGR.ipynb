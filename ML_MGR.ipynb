{
  "nbformat": 4,
  "nbformat_minor": 0,
  "metadata": {
    "colab": {
      "name": "ML_MGR.ipynb",
      "provenance": [],
      "collapsed_sections": []
    },
    "kernelspec": {
      "display_name": "Python 3",
      "name": "python3"
    }
  },
  "cells": [
    {
      "cell_type": "markdown",
      "metadata": {
        "id": "7CjmKX4BFeTd"
      },
      "source": [
        "# Imports"
      ]
    },
    {
      "cell_type": "code",
      "metadata": {
        "id": "b2osKWi4djT7",
        "colab": {
          "base_uri": "https://localhost:8080/"
        },
        "outputId": "afbdb210-94c4-43af-e963-4895d72575e6"
      },
      "source": [
        "%matplotlib inline\n",
        "\n",
        "import matplotlib.pyplot as plt\n",
        "import numpy as np\n",
        "import pandas as pd\n",
        "import seaborn as sns\n",
        "import sklearn.feature_extraction\n",
        "from sklearn.svm import SVC\n",
        "from sklearn import preprocessing\n",
        "from sklearn.neighbors import KNeighborsClassifier\n",
        "from sklearn.feature_selection import SelectKBest\n",
        "from sklearn.feature_selection import chi2\n",
        "from sklearn.linear_model import LogisticRegression\n",
        "from sklearn import ensemble\n",
        "from sklearn.naive_bayes import MultinomialNB\n",
        "from sklearn.feature_extraction.text import TfidfTransformer\n",
        "\n",
        "from IPython.display import display, clear_output\n",
        "\n",
        "import string\n",
        "import re\n",
        "import nltk\n",
        "nltk.download('stopwords')\n",
        "nltk.download('wordnet')"
      ],
      "execution_count": null,
      "outputs": [
        {
          "output_type": "stream",
          "text": [
            "[nltk_data] Downloading package stopwords to /root/nltk_data...\n",
            "[nltk_data]   Unzipping corpora/stopwords.zip.\n",
            "[nltk_data] Downloading package wordnet to /root/nltk_data...\n",
            "[nltk_data]   Unzipping corpora/wordnet.zip.\n"
          ],
          "name": "stdout"
        },
        {
          "output_type": "execute_result",
          "data": {
            "text/plain": [
              "True"
            ]
          },
          "metadata": {
            "tags": []
          },
          "execution_count": 2
        }
      ]
    },
    {
      "cell_type": "markdown",
      "metadata": {
        "id": "MoQtDH0b48Xx"
      },
      "source": [
        "# Cross Validation sets"
      ]
    },
    {
      "cell_type": "code",
      "metadata": {
        "id": "eIKA-1kQ-awq"
      },
      "source": [
        "music = pd.read_csv('https://raw.githubusercontent.com/roody225/ML_MGR_datasets/master/music_features.csv')\n",
        "lyrics = pd.read_csv('https://raw.githubusercontent.com/roody225/ML_MGR_datasets/master/texts.csv')"
      ],
      "execution_count": null,
      "outputs": []
    },
    {
      "cell_type": "code",
      "metadata": {
        "id": "Lv7ILvRR5Jks"
      },
      "source": [
        "test_id = np.array([ 90,  91,  92,  93,  94,  95,  96,  97,  98,  99, 190, 191, 192, 193, 194, 195, 196, 197, 198, 199,\n",
        "          290, 291, 292, 293, 294, 295, 296, 297, 298, 299, 390, 391, 392, 393, 394, 395, 396, 397, 398, 399,\n",
        "          490, 491, 492, 493, 494, 495, 496, 497, 498, 499])\n",
        "\n",
        "def testGen(df):\n",
        "    tmp = df.iloc[test_id]\n",
        "    return tmp.drop(labels='label', axis=1), tmp['label']\n",
        "\n",
        "def trainGen(df, id):\n",
        "    df = df.drop(test_id)\n",
        "    indices = np.array([])\n",
        "    if id < 0:\n",
        "        return df.drop(labels='label', axis=1), df['label']\n",
        "    start = id * 10\n",
        "    end = start + 10\n",
        "    for i in range(5):\n",
        "        cur = i * 100\n",
        "        indices = np.append(indices, np.arange(cur+start, cur+end))\n",
        "    tmp = df.drop(indices)\n",
        "    return tmp.drop(labels='label', axis=1), tmp['label']\n",
        "        \n",
        "def validationGen(df, id):\n",
        "    indices = np.array([])\n",
        "    start = id * 10\n",
        "    end = start + 10\n",
        "    for i in range(5):\n",
        "        cur = i * 100\n",
        "        indices = np.append(indices, np.arange(cur+start, cur+end))\n",
        "    tmp = df.iloc[indices]\n",
        "    return tmp.drop(labels='label', axis=1), tmp['label']"
      ],
      "execution_count": null,
      "outputs": []
    },
    {
      "cell_type": "markdown",
      "metadata": {
        "id": "wWF37O0gFjac"
      },
      "source": [
        "# AUX section"
      ]
    },
    {
      "cell_type": "code",
      "metadata": {
        "id": "PDLFlmrCFvX9"
      },
      "source": [
        "#remove punctuation\n",
        "def remove_punct(text):\n",
        "    return \"\".join([c for c in text if c not in string.punctuation])\n",
        "    \n",
        "#tokenize\n",
        "def tokenize(text):\n",
        "    return re.split('\\W+', text)\n",
        "    \n",
        "#remove stopwords\n",
        "list_of_stopwords = nltk.corpus.stopwords.words('english')\n",
        "def remove_stopwords(tokens):\n",
        "    return [word for word in tokens if word not in list_of_stopwords]\n",
        "    \n",
        "#Lemmatizing\n",
        "wn = nltk.WordNetLemmatizer()\n",
        "def lemmatize(tokens):\n",
        "    return [wn.lemmatize(word) for word in tokens]\n",
        "    \n",
        "#stemming\n",
        "ps = nltk.PorterStemmer()\n",
        "def stemming(tokens):\n",
        "    return [ps.stem(word) for word in tokens]\n",
        "\n",
        "#accuracy\n",
        "def accuracy(preds, y):\n",
        "    correct = (preds == y)\n",
        "    return np.count_nonzero(correct) / len(correct)\n",
        "\n",
        "#calculate accuracy given model and df\n",
        "def calculateAccuracy(model, df):\n",
        "    test_x, test_y = testGen(df)\n",
        "    preds = model.predict(test_x)\n",
        "    return accuracy(preds, test_y)\n",
        "\n",
        "#calculate accuracy given model and test df_x,df_y, for each genre\n",
        "def calculate_accuracy(predictions, test_y):\n",
        "    return (predictions == test_y).mean()\n",
        "\n",
        "def accuracy_count(model,df_x,df_y):\n",
        "  print( \"Total accuracy:\", \n",
        "      calculate_accuracy(model.predict(df_x),df_y ))\n",
        "  for gen in ['blues','rock','hiphop','reggae','country']:\n",
        "    df_x_temp = df_x.loc[df_y == gen]\n",
        "    df_y_temp = df_y.loc[df_y == gen]\n",
        "    print( \"Accuracy for \", gen, \": \", \n",
        "          calculate_accuracy(model.predict(df_x_temp),df_y_temp) )"
      ],
      "execution_count": null,
      "outputs": []
    },
    {
      "cell_type": "markdown",
      "metadata": {
        "id": "XHUuEVEuTk47"
      },
      "source": [
        "#KNN + Naive Bayes"
      ]
    },
    {
      "cell_type": "code",
      "metadata": {
        "id": "2IkzIorGTo5N"
      },
      "source": [
        "def musicKNN(train_x, train_y):\n",
        "    model = KNeighborsClassifier(n_neighbors=4)\n",
        "    model.fit(train_x, train_y.values.ravel())\n",
        "    return model"
      ],
      "execution_count": null,
      "outputs": []
    },
    {
      "cell_type": "code",
      "metadata": {
        "id": "BBfk2woqdZt6"
      },
      "source": [
        "def textNBC(train_x, train_y):\n",
        "    model = MultinomialNB(alpha = 1.0)\n",
        "    model.fit(train_x, train_y)\n",
        "    return model"
      ],
      "execution_count": null,
      "outputs": []
    },
    {
      "cell_type": "code",
      "metadata": {
        "id": "NsyJoT8hfl9e"
      },
      "source": [
        "def prepareMusicKNN(df):\n",
        "    scaler = sklearn.preprocessing.StandardScaler()\n",
        "    features = df.drop(labels = 'label',axis = 1).columns\n",
        "    df_standarized = df\n",
        "    df_standarized[features] = scaler.fit_transform(df[features])\n",
        "    return df\n"
      ],
      "execution_count": null,
      "outputs": []
    },
    {
      "cell_type": "code",
      "metadata": {
        "id": "Busg4x-y81FF",
        "colab": {
          "base_uri": "https://localhost:8080/"
        },
        "outputId": "e01ba9e4-0cad-4ed8-9fe7-865dbbb95229"
      },
      "source": [
        "prepared_music = prepareMusicKNN(music)\r\n",
        "\r\n",
        "train = prepared_music.drop(test_id)\r\n",
        "train_x, train_y = train.drop(labels='label', axis=1), train[['label']]\r\n",
        "test_x,test_y = testGen(prepared_music)\r\n",
        "music_KNN = musicKNN(train_x, train_y)\r\n",
        "accuracy_count(music_KNN, test_x, test_y)"
      ],
      "execution_count": null,
      "outputs": [
        {
          "output_type": "stream",
          "text": [
            "Total accuracy: 0.74\n",
            "Accuracy for  blues :  0.8\n",
            "Accuracy for  rock :  0.8\n",
            "Accuracy for  hiphop :  0.6\n",
            "Accuracy for  reggae :  0.6\n",
            "Accuracy for  country :  0.9\n"
          ],
          "name": "stdout"
        }
      ]
    },
    {
      "cell_type": "code",
      "metadata": {
        "id": "BRwJSaXEfAQ4"
      },
      "source": [
        "def prepareTextNBC(data):\n",
        "    def clean_text(text):\n",
        "        text = remove_punct(text)\n",
        "        text = tokenize(text.lower())\n",
        "        text = remove_stopwords(text)\n",
        "        text = lemmatize(text)\n",
        "        #uncomment if needed\n",
        "        #text = stemming(text)\n",
        "        return text\n",
        "    count_vect = sklearn.feature_extraction.text.CountVectorizer(analyzer=clean_text)\n",
        "    counts = count_vect.fit_transform(data['text'])\n",
        "    # counts = TfidfTransformer().fit_transform(counts)\n",
        "    #print(count_vect.get_feature_names())\n",
        "    arr_counts = counts.toarray()\n",
        "    df = data[['label']]\n",
        "    for i in range(len(count_vect.get_feature_names())):\n",
        "        df[i] = pd.Series(arr_counts.T[i])\n",
        "    return df\n"
      ],
      "execution_count": null,
      "outputs": []
    },
    {
      "cell_type": "code",
      "metadata": {
        "id": "wF62JFkh84BH",
        "colab": {
          "base_uri": "https://localhost:8080/"
        },
        "outputId": "4f10effd-6f05-48ce-bc95-51c184d83a6b"
      },
      "source": [
        "prepared_lyrics = prepareTextNBC(lyrics)\r\n",
        "\r\n",
        "train = prepared_lyrics.drop(test_id)\r\n",
        "train_x, train_y = train.drop(labels='label', axis=1), train[['label']]\r\n",
        "test_x,test_y = testGen(prepared_lyrics)\r\n",
        "lyrics_NBC = textNBC(train_x, train_y)\r\n",
        "accuracy_count(lyrics_NBC, test_x, test_y)"
      ],
      "execution_count": null,
      "outputs": [
        {
          "output_type": "stream",
          "text": [
            "Total accuracy: 0.68\n",
            "Accuracy for  blues :  0.6\n",
            "Accuracy for  rock :  0.3\n",
            "Accuracy for  hiphop :  0.9\n",
            "Accuracy for  reggae :  0.9\n",
            "Accuracy for  country :  0.7\n"
          ],
          "name": "stdout"
        },
        {
          "output_type": "stream",
          "text": [
            "/usr/local/lib/python3.6/dist-packages/sklearn/utils/validation.py:760: DataConversionWarning: A column-vector y was passed when a 1d array was expected. Please change the shape of y to (n_samples, ), for example using ravel().\n",
            "  y = column_or_1d(y, warn=True)\n"
          ],
          "name": "stderr"
        }
      ]
    },
    {
      "cell_type": "code",
      "metadata": {
        "id": "AAF93qDAdHjF"
      },
      "source": [
        "music_processed_knn = prepareMusicKNN(music)\r\n",
        "lyrics_processed_nbc = prepareTextNBC(lyrics)\r\n",
        "\r\n",
        "music_model_knn = music_KNN\r\n",
        "lyrics_model_nbc = lyrics_NBC"
      ],
      "execution_count": null,
      "outputs": []
    },
    {
      "cell_type": "markdown",
      "metadata": {
        "id": "PcNelGyiEWnc"
      },
      "source": [
        "# SVM"
      ]
    },
    {
      "cell_type": "code",
      "metadata": {
        "id": "A8DwN90wEcNs"
      },
      "source": [
        "def prepareTextSVM(data):\n",
        "    #clean_text\n",
        "    def clean_text(text):\n",
        "        text = remove_punct(text)\n",
        "        text = tokenize(text.lower())\n",
        "        text = remove_stopwords(text)\n",
        "        text = lemmatize(text)\n",
        "        text = stemming(text)\n",
        "        return text\n",
        "\n",
        "    #create BoW\n",
        "    count_vect = sklearn.feature_extraction.text.CountVectorizer(analyzer=clean_text)\n",
        "    counts = count_vect.fit_transform(data['text'])\n",
        "    counts = TfidfTransformer().fit_transform(counts)\n",
        "    names = count_vect.get_feature_names()\n",
        "    arr_counts = counts.toarray()\n",
        "\n",
        "    lyrics = data[['label']]\n",
        "    tmp = pd.DataFrame()\n",
        "    tmp['$#clean_len#$'] = data['text'].apply(clean_text).apply(len)\n",
        "    tmp['$#len#$'] = data['text'].apply(tokenize).apply(len)\n",
        "    for i in range(len(names)):\n",
        "        tmp[names[i]] = pd.Series(arr_counts.T[i])\n",
        "    selector = SelectKBest(chi2, k=2000).fit(tmp, lyrics)\n",
        "    cols = selector.get_support(indices=True)\n",
        "    tmp = tmp.iloc[:,cols]\n",
        "    scaler = preprocessing.StandardScaler().fit(tmp)\n",
        "    tmp = scaler.transform(tmp)\n",
        "    tmp = pd.DataFrame(tmp)\n",
        "    tmp['label'] = data['label']\n",
        "    return tmp\n",
        "\n",
        "def prepareMusicSVM(data):\n",
        "    x = data.drop(labels=['label'], axis=1)\n",
        "    y = data['label']\n",
        "    scaler = preprocessing.StandardScaler().fit(x)\n",
        "    x = scaler.transform(x)\n",
        "    x = pd.DataFrame(x)\n",
        "    x['label'] = y\n",
        "    return x"
      ],
      "execution_count": null,
      "outputs": []
    },
    {
      "cell_type": "code",
      "metadata": {
        "id": "fhXaJcihDzw8"
      },
      "source": [
        "def musicSVM(x, y):\n",
        "    model = SVC(kernel='rbf')\n",
        "    model.fit(x, y)\n",
        "    return model\n",
        "\n",
        "def textSVM(x, y):\n",
        "    model = SVC(kernel='sigmoid')\n",
        "    model.fit(x, y)\n",
        "    return model"
      ],
      "execution_count": null,
      "outputs": []
    },
    {
      "cell_type": "code",
      "metadata": {
        "id": "z-fUCPE5FvKw"
      },
      "source": [
        "music_processed_svm = prepareMusicSVM(music)\n",
        "lyrics_processed_svm = prepareTextSVM(lyrics)\n",
        "\n",
        "music_train_x_svm, music_train_y_svm = trainGen(music_processed_svm, -1)\n",
        "lyrics_train_x_svm, lyrics_train_y_svm = trainGen(lyrics_processed_svm, -1)\n",
        "\n",
        "music_model_svm = musicSVM(music_train_x_svm, music_train_y_svm)\n",
        "lyrics_model_svm = textSVM(lyrics_train_x_svm, lyrics_train_y_svm)"
      ],
      "execution_count": null,
      "outputs": []
    },
    {
      "cell_type": "code",
      "metadata": {
        "colab": {
          "base_uri": "https://localhost:8080/"
        },
        "id": "t0oII48EWoNQ",
        "outputId": "b54e490b-cdd1-41cb-9da5-d610e8fa815a"
      },
      "source": [
        "test_m_x,test_m_y = testGen(music_processed_svm)\n",
        "accuracy_count(music_model_svm, test_m_x, test_m_y)"
      ],
      "execution_count": null,
      "outputs": [
        {
          "output_type": "stream",
          "text": [
            "Total accuracy: 0.78\n",
            "Accuracy for  blues :  0.8\n",
            "Accuracy for  rock :  0.8\n",
            "Accuracy for  hiphop :  0.7\n",
            "Accuracy for  reggae :  0.6\n",
            "Accuracy for  country :  1.0\n"
          ],
          "name": "stdout"
        }
      ]
    },
    {
      "cell_type": "code",
      "metadata": {
        "colab": {
          "base_uri": "https://localhost:8080/"
        },
        "id": "nxJLUqq_WpoY",
        "outputId": "dd1b8fc1-c109-434b-9945-3a67a1612c47"
      },
      "source": [
        "test_l_x,test_l_y = testGen(lyrics_processed_svm)\n",
        "accuracy_count(lyrics_model_svm, test_l_x, test_l_y)"
      ],
      "execution_count": null,
      "outputs": [
        {
          "output_type": "stream",
          "text": [
            "Total accuracy: 0.86\n",
            "Accuracy for  blues :  0.8\n",
            "Accuracy for  rock :  0.9\n",
            "Accuracy for  hiphop :  0.9\n",
            "Accuracy for  reggae :  0.9\n",
            "Accuracy for  country :  0.8\n"
          ],
          "name": "stdout"
        }
      ]
    },
    {
      "cell_type": "markdown",
      "metadata": {
        "id": "d1De6VCpqDo6"
      },
      "source": [
        "# Random Forest"
      ]
    },
    {
      "cell_type": "code",
      "metadata": {
        "id": "khHQ2hRWVz69"
      },
      "source": [
        "def prepareTextRF(data):\r\n",
        "      #clean_text\r\n",
        "    def clean_text(text):\r\n",
        "        text = remove_punct(text)\r\n",
        "        text = tokenize(text.lower())\r\n",
        "        text = remove_stopwords(text)\r\n",
        "        text = lemmatize(text)\r\n",
        "        text = stemming(text)\r\n",
        "        return text\r\n",
        "\r\n",
        "    #create BoW\r\n",
        "    count_vect = sklearn.feature_extraction.text.CountVectorizer(analyzer=clean_text)\r\n",
        "    counts = count_vect.fit_transform(data['text'])\r\n",
        "    counts = TfidfTransformer().fit_transform(counts)\r\n",
        "    names = count_vect.get_feature_names()\r\n",
        "    arr_counts = counts.toarray()\r\n",
        "\r\n",
        "    lyrics = data[['label']]\r\n",
        "    tmp = pd.DataFrame()\r\n",
        "    tmp['$#clean_len#$'] = data['text'].apply(clean_text).apply(len)\r\n",
        "    tmp['$#len#$'] = data['text'].apply(tokenize).apply(len)\r\n",
        "    for i in range(len(names)):\r\n",
        "        tmp[names[i]] = pd.Series(arr_counts.T[i])\r\n",
        "    selector = SelectKBest(chi2, k=3700).fit(tmp, lyrics)\r\n",
        "    cols = selector.get_support(indices=True)\r\n",
        "    tmp = tmp.iloc[:,cols]\r\n",
        "    scaler = preprocessing.StandardScaler().fit(tmp)\r\n",
        "    tmp = scaler.transform(tmp)\r\n",
        "    tmp = pd.DataFrame(tmp)\r\n",
        "    tmp['label'] = data['label']\r\n",
        "    return tmp\r\n",
        "\r\n",
        "def prepareMusicRF(data):\r\n",
        "  return data"
      ],
      "execution_count": null,
      "outputs": []
    },
    {
      "cell_type": "code",
      "metadata": {
        "id": "ELMAphLImhd9"
      },
      "source": [
        "def musicRF(df_data,df_target):\r\n",
        "  rfc = ensemble.RandomForestClassifier(max_samples=0.9,n_estimators=200,max_features=30,criterion='entropy')\r\n",
        "  rfc.fit(df_data,df_target)\r\n",
        "  return rfc\r\n",
        "\r\n",
        "\r\n",
        "def textRF(df_data,df_target):\r\n",
        "  rfc = ensemble.RandomForestClassifier(max_samples=0.9,n_estimators=500,max_features=60)\r\n",
        "  rfc.fit(df_data,df_target)\r\n",
        "  return rfc\r\n"
      ],
      "execution_count": null,
      "outputs": []
    },
    {
      "cell_type": "code",
      "metadata": {
        "id": "ZQqGRTaja0Hm"
      },
      "source": [
        "music_processed_rf = prepareMusicRF(music)\r\n",
        "lyrics_processed_rf = prepareTextRF(lyrics)\r\n"
      ],
      "execution_count": null,
      "outputs": []
    },
    {
      "cell_type": "code",
      "metadata": {
        "colab": {
          "base_uri": "https://localhost:8080/"
        },
        "id": "JkTNHmiFV9WZ",
        "outputId": "cd85237f-5340-40e3-a923-fce33f2db45e"
      },
      "source": [
        "\r\n",
        "train_music = music_processed_rf.drop(test_id)\r\n",
        "train_music_x, train_music_y = train_music.drop(labels='label', axis=1), train_music[['label']]\r\n",
        "\r\n",
        "music_model_rf = musicRF(train_music_x, train_music_y)\r\n",
        "\r\n",
        "train_lyrics = lyrics_processed_rf.drop(test_id)\r\n",
        "train_lyrics_x, train_lyrics_y = train_lyrics.drop(labels='label', axis=1), train_lyrics[['label']]\r\n",
        "\r\n",
        "lyrics_model_rf = textRF(train_lyrics_x, train_lyrics_y)"
      ],
      "execution_count": null,
      "outputs": [
        {
          "output_type": "stream",
          "text": [
            "/usr/local/lib/python3.6/dist-packages/ipykernel_launcher.py:3: DataConversionWarning: A column-vector y was passed when a 1d array was expected. Please change the shape of y to (n_samples,), for example using ravel().\n",
            "  This is separate from the ipykernel package so we can avoid doing imports until\n",
            "/usr/local/lib/python3.6/dist-packages/ipykernel_launcher.py:9: DataConversionWarning: A column-vector y was passed when a 1d array was expected. Please change the shape of y to (n_samples,), for example using ravel().\n",
            "  if __name__ == '__main__':\n"
          ],
          "name": "stderr"
        }
      ]
    },
    {
      "cell_type": "code",
      "metadata": {
        "id": "hLDEkS5wgGXc",
        "colab": {
          "base_uri": "https://localhost:8080/"
        },
        "outputId": "23cc02af-d6fa-4b28-aae4-44245bd5f5bd"
      },
      "source": [
        "test_m_x,test_m_y = testGen(music_processed_rf)\r\n",
        "accuracy_count(music_model_rf,test_m_x,test_m_y)"
      ],
      "execution_count": null,
      "outputs": [
        {
          "output_type": "stream",
          "text": [
            "Total accuracy: 0.76\n",
            "Accuracy for  blues :  0.9\n",
            "Accuracy for  rock :  0.7\n",
            "Accuracy for  hiphop :  0.8\n",
            "Accuracy for  reggae :  0.6\n",
            "Accuracy for  country :  0.8\n"
          ],
          "name": "stdout"
        }
      ]
    },
    {
      "cell_type": "code",
      "metadata": {
        "id": "Kp4a_GpSgwDR",
        "colab": {
          "base_uri": "https://localhost:8080/"
        },
        "outputId": "0c514d0a-993b-45af-b48f-d7f3a30a145a"
      },
      "source": [
        "test_l_x,test_l_y = testGen(lyrics_processed_rf)\r\n",
        "accuracy_count(lyrics_model_rf,test_l_x,test_l_y)"
      ],
      "execution_count": null,
      "outputs": [
        {
          "output_type": "stream",
          "text": [
            "Total accuracy: 0.72\n",
            "Accuracy for  blues :  0.7\n",
            "Accuracy for  rock :  0.4\n",
            "Accuracy for  hiphop :  0.9\n",
            "Accuracy for  reggae :  0.9\n",
            "Accuracy for  country :  0.7\n"
          ],
          "name": "stdout"
        }
      ]
    },
    {
      "cell_type": "markdown",
      "metadata": {
        "id": "a3T3VpwYnhPs"
      },
      "source": [
        "#Accuracy comparison"
      ]
    },
    {
      "cell_type": "code",
      "metadata": {
        "id": "a-fE3k0ptnAj"
      },
      "source": [
        "def accuracy_count(model,df_x,df_y):\n",
        "  print( \"Total accuracy:\", \n",
        "      calculate_accuracy(model.predict(df_x),df_y ))\n",
        "  for gen in ['blues','rock','hiphop','reggae','country']:\n",
        "    df_x_temp = df_x.loc[df_y == gen]\n",
        "    df_y_temp = df_y.loc[df_y == gen]\n",
        "    print( \"Accuracy for \", gen, \": \", \n",
        "          calculate_accuracy(model.predict(df_x_temp),df_y_temp) )\n",
        "    \n",
        "def genre_accuracies_for_model(model, df):\n",
        "    df_x, df_y = testGen(df)\n",
        "    accuracies = {}\n",
        "    accuracies['total'] = sklearn.metrics.accuracy_score(df_y, model.predict(df_x))\n",
        "    for gen in ['blues','rock','hiphop','reggae','country']:\n",
        "        df_x_gen = df_x.loc[df_y == gen]\n",
        "        df_y_gen = df_y.loc[df_y == gen]\n",
        "        accuracies[gen] = sklearn.metrics.accuracy_score(df_y_gen, model.predict(df_x_gen))\n",
        "    return accuracies\n",
        "\n",
        "genre_accuracies_music = []\n",
        "model_labels_music = ['KNN', 'SVM', 'RF']\n",
        "genre_accuracies_lyrics = []\n",
        "model_labels_lyrics = ['NBC', 'SVM', 'RF']\n",
        "genre_accuracies_music.append(genre_accuracies_for_model(music_model_knn,  music_processed_knn))\n",
        "genre_accuracies_lyrics.append(genre_accuracies_for_model(lyrics_model_nbc,  lyrics_processed_nbc))\n",
        "\n",
        "genre_accuracies_music.append(genre_accuracies_for_model(music_model_svm,  music_processed_svm))\n",
        "genre_accuracies_lyrics.append(genre_accuracies_for_model(lyrics_model_svm,  lyrics_processed_svm))\n",
        "\n",
        "genre_accuracies_music.append(genre_accuracies_for_model(music_model_rf,  music_processed_rf))\n",
        "genre_accuracies_lyrics.append(genre_accuracies_for_model(lyrics_model_rf,  lyrics_processed_rf))"
      ],
      "execution_count": null,
      "outputs": []
    },
    {
      "cell_type": "code",
      "metadata": {
        "id": "U8HtUFN-NIz6"
      },
      "source": [
        "genre_acc_music_df = pd.DataFrame(genre_accuracies_music, index=model_labels_music)\n",
        "genre_acc_lyrics_df = pd.DataFrame(genre_accuracies_lyrics, index=model_labels_lyrics)\n",
        "\n"
      ],
      "execution_count": null,
      "outputs": []
    },
    {
      "cell_type": "markdown",
      "metadata": {
        "id": "8pnjCixzNLN4"
      },
      "source": [
        "Music"
      ]
    },
    {
      "cell_type": "code",
      "metadata": {
        "colab": {
          "base_uri": "https://localhost:8080/",
          "height": 137
        },
        "id": "dUhxvmE7eG02",
        "outputId": "d9958afa-23cb-4351-9d17-4a496c2bd5eb"
      },
      "source": [
        "genre_acc_music_df"
      ],
      "execution_count": null,
      "outputs": [
        {
          "output_type": "execute_result",
          "data": {
            "text/html": [
              "<div>\n",
              "<style scoped>\n",
              "    .dataframe tbody tr th:only-of-type {\n",
              "        vertical-align: middle;\n",
              "    }\n",
              "\n",
              "    .dataframe tbody tr th {\n",
              "        vertical-align: top;\n",
              "    }\n",
              "\n",
              "    .dataframe thead th {\n",
              "        text-align: right;\n",
              "    }\n",
              "</style>\n",
              "<table border=\"1\" class=\"dataframe\">\n",
              "  <thead>\n",
              "    <tr style=\"text-align: right;\">\n",
              "      <th></th>\n",
              "      <th>total</th>\n",
              "      <th>blues</th>\n",
              "      <th>rock</th>\n",
              "      <th>hiphop</th>\n",
              "      <th>reggae</th>\n",
              "      <th>country</th>\n",
              "    </tr>\n",
              "  </thead>\n",
              "  <tbody>\n",
              "    <tr>\n",
              "      <th>KNN</th>\n",
              "      <td>0.74</td>\n",
              "      <td>0.8</td>\n",
              "      <td>0.8</td>\n",
              "      <td>0.6</td>\n",
              "      <td>0.6</td>\n",
              "      <td>0.9</td>\n",
              "    </tr>\n",
              "    <tr>\n",
              "      <th>SVM</th>\n",
              "      <td>0.78</td>\n",
              "      <td>0.8</td>\n",
              "      <td>0.8</td>\n",
              "      <td>0.7</td>\n",
              "      <td>0.6</td>\n",
              "      <td>1.0</td>\n",
              "    </tr>\n",
              "    <tr>\n",
              "      <th>RF</th>\n",
              "      <td>0.76</td>\n",
              "      <td>0.9</td>\n",
              "      <td>0.7</td>\n",
              "      <td>0.8</td>\n",
              "      <td>0.6</td>\n",
              "      <td>0.8</td>\n",
              "    </tr>\n",
              "  </tbody>\n",
              "</table>\n",
              "</div>"
            ],
            "text/plain": [
              "     total  blues  rock  hiphop  reggae  country\n",
              "KNN   0.74    0.8   0.8     0.6     0.6      0.9\n",
              "SVM   0.78    0.8   0.8     0.7     0.6      1.0\n",
              "RF    0.76    0.9   0.7     0.8     0.6      0.8"
            ]
          },
          "metadata": {
            "tags": []
          },
          "execution_count": 26
        }
      ]
    },
    {
      "cell_type": "code",
      "metadata": {
        "colab": {
          "base_uri": "https://localhost:8080/",
          "height": 282
        },
        "id": "lZHyxH1qNPuA",
        "outputId": "56f53d4b-6b45-4d98-d4c5-c13817dc16c2"
      },
      "source": [
        "genre_acc_music_df.T.plot.bar(rot = 0)"
      ],
      "execution_count": null,
      "outputs": [
        {
          "output_type": "execute_result",
          "data": {
            "text/plain": [
              "<matplotlib.axes._subplots.AxesSubplot at 0x7f7bb1df6828>"
            ]
          },
          "metadata": {
            "tags": []
          },
          "execution_count": 27
        },
        {
          "output_type": "display_data",
          "data": {
            "image/png": "[encoded data removed]",
            "text/plain": [
              "<Figure size 432x288 with 1 Axes>"
            ]
          },
          "metadata": {
            "tags": [],
            "needs_background": "light"
          }
        }
      ]
    },
    {
      "cell_type": "markdown",
      "metadata": {
        "id": "gJsGLxQZNNNZ"
      },
      "source": [
        "Lyrics\n"
      ]
    },
    {
      "cell_type": "code",
      "metadata": {
        "colab": {
          "base_uri": "https://localhost:8080/",
          "height": 137
        },
        "id": "DgcGDo6jeNAE",
        "outputId": "03df4a02-e2d3-4d73-9791-84616d342302"
      },
      "source": [
        "genre_acc_lyrics_df"
      ],
      "execution_count": null,
      "outputs": [
        {
          "output_type": "execute_result",
          "data": {
            "text/html": [
              "<div>\n",
              "<style scoped>\n",
              "    .dataframe tbody tr th:only-of-type {\n",
              "        vertical-align: middle;\n",
              "    }\n",
              "\n",
              "    .dataframe tbody tr th {\n",
              "        vertical-align: top;\n",
              "    }\n",
              "\n",
              "    .dataframe thead th {\n",
              "        text-align: right;\n",
              "    }\n",
              "</style>\n",
              "<table border=\"1\" class=\"dataframe\">\n",
              "  <thead>\n",
              "    <tr style=\"text-align: right;\">\n",
              "      <th></th>\n",
              "      <th>total</th>\n",
              "      <th>blues</th>\n",
              "      <th>rock</th>\n",
              "      <th>hiphop</th>\n",
              "      <th>reggae</th>\n",
              "      <th>country</th>\n",
              "    </tr>\n",
              "  </thead>\n",
              "  <tbody>\n",
              "    <tr>\n",
              "      <th>NBC</th>\n",
              "      <td>0.68</td>\n",
              "      <td>0.6</td>\n",
              "      <td>0.3</td>\n",
              "      <td>0.9</td>\n",
              "      <td>0.9</td>\n",
              "      <td>0.7</td>\n",
              "    </tr>\n",
              "    <tr>\n",
              "      <th>SVM</th>\n",
              "      <td>0.86</td>\n",
              "      <td>0.8</td>\n",
              "      <td>0.9</td>\n",
              "      <td>0.9</td>\n",
              "      <td>0.9</td>\n",
              "      <td>0.8</td>\n",
              "    </tr>\n",
              "    <tr>\n",
              "      <th>RF</th>\n",
              "      <td>0.72</td>\n",
              "      <td>0.7</td>\n",
              "      <td>0.4</td>\n",
              "      <td>0.9</td>\n",
              "      <td>0.9</td>\n",
              "      <td>0.7</td>\n",
              "    </tr>\n",
              "  </tbody>\n",
              "</table>\n",
              "</div>"
            ],
            "text/plain": [
              "     total  blues  rock  hiphop  reggae  country\n",
              "NBC   0.68    0.6   0.3     0.9     0.9      0.7\n",
              "SVM   0.86    0.8   0.9     0.9     0.9      0.8\n",
              "RF    0.72    0.7   0.4     0.9     0.9      0.7"
            ]
          },
          "metadata": {
            "tags": []
          },
          "execution_count": 28
        }
      ]
    },
    {
      "cell_type": "code",
      "metadata": {
        "colab": {
          "base_uri": "https://localhost:8080/",
          "height": 282
        },
        "id": "Jq2ZDVzkNYO4",
        "outputId": "7b57f536-c118-464b-fbde-e22e100ab3bf"
      },
      "source": [
        "genre_acc_lyrics_df.T.plot.bar(rot = 0)"
      ],
      "execution_count": null,
      "outputs": [
        {
          "output_type": "execute_result",
          "data": {
            "text/plain": [
              "<matplotlib.axes._subplots.AxesSubplot at 0x7f7bb18b1278>"
            ]
          },
          "metadata": {
            "tags": []
          },
          "execution_count": 29
        },
        {
          "output_type": "display_data",
          "data": {
            "image/png": "[encoded data removed]",
            "text/plain": [
              "<Figure size 432x288 with 1 Axes>"
            ]
          },
          "metadata": {
            "tags": [],
            "needs_background": "light"
          }
        }
      ]
    },
    {
      "cell_type": "markdown",
      "metadata": {
        "id": "GEBFAAL29dSD"
      },
      "source": [
        "#Genre Similarities\r\n"
      ]
    },
    {
      "cell_type": "code",
      "metadata": {
        "id": "RbJJukvq9g-n"
      },
      "source": [
        "genres = ['blues','rock','hiphop','reggae','country']\r\n",
        "miss_ls = [np.zeros(len(genres)) for g in genres]\r\n",
        "#print(miss_ls)\r\n",
        "\r\n",
        "def missclassify_list(predictions, test_y):\r\n",
        "    return list(predictions[predictions != test_y])\r\n",
        "\r\n",
        "def genre_missclassify(model,df_x,df_y,miss_ls):\r\n",
        "  for i in range(len(genres)):\r\n",
        "    gen = genres[i]\r\n",
        "    df_x_temp = df_x.loc[df_y == gen]\r\n",
        "    df_y_temp = df_y.loc[df_y == gen]\r\n",
        "    ml = missclassify_list(model.predict(df_x_temp),df_y_temp)\r\n",
        "    for m in ml:\r\n",
        "      miss_ls[i][genres.index(m)] += 1\r\n",
        "  return miss_ls\r\n",
        "\r\n",
        "def miss_plot(miss_ls,title):\r\n",
        "  #print(miss_dict)\r\n",
        "  n = len(genres)\r\n",
        "  fig, axs = plt.subplots(2, 3,figsize=(15,10),sharey=True)\r\n",
        "  ind = np.arange(n)\r\n",
        "  fig.suptitle(title, fontsize=16)\r\n",
        "  for i in range(n):\r\n",
        "    ax = axs[i//3][i%3]\r\n",
        "    ax.bar(ind,miss_ls[i])\r\n",
        "    ax.set(ylabel='Missclassified '+genres[i])\r\n",
        "    ax.set_xticklabels(np.concatenate(([0],genres))) \r\n",
        "\r\n",
        "def split_dataset(df,train_size):\r\n",
        "  n = df.shape[0]\r\n",
        "  perm = np.random.permutation(np.arange(n))\r\n",
        "  trn_perm = perm[:int(n*train_size)]\r\n",
        "  tst_perm = perm[int(n*train_size):]\r\n",
        "\r\n",
        "  return df.iloc[list(trn_perm)].reset_index(drop=True),df.iloc[list(tst_perm)].reset_index(drop=True)\r\n",
        "\r\n",
        "def crossValidationMiss(model, df, n):\r\n",
        "  res = False\r\n",
        "  acc = -1\r\n",
        "  miss_ls = [np.zeros(len(genres)) for g in genres]\r\n",
        "  #print(miss_dict)\r\n",
        "  for i in range(n):\r\n",
        "    # valid,train = split_dataset(df,0.1)\r\n",
        "    # train_x, train_y = data_target(train)\r\n",
        "    # valid_x,  valid_y = data_target(valid)\r\n",
        "    train_x, train_y = trainGen(df, i)\r\n",
        "    valid_x,  valid_y = validationGen(df, i)\r\n",
        "    tmp = model(train_x, train_y)\r\n",
        "    miss_ls = genre_missclassify(tmp,valid_x,valid_y,miss_ls)\r\n",
        "  for i in range(len(genres)):\r\n",
        "    for j in range(len(genres)):\r\n",
        "      miss_ls[i][j] /= n\r\n",
        "  return miss_ls\r\n",
        "        "
      ],
      "execution_count": null,
      "outputs": []
    },
    {
      "cell_type": "code",
      "metadata": {
        "id": "DPhaQHWSNz0t"
      },
      "source": [
        "miss_ls = crossValidationMiss(musicRF,music_processed_rf,9)"
      ],
      "execution_count": null,
      "outputs": []
    },
    {
      "cell_type": "code",
      "metadata": {
        "colab": {
          "base_uri": "https://localhost:8080/",
          "height": 282
        },
        "id": "2Y2We5LAEhdG",
        "outputId": "a966b02c-c300-4e82-8cdc-73d52caddb8a"
      },
      "source": [
        "sns.heatmap(miss_ls,xticklabels=genres,yticklabels=genres,cmap=\"YlOrBr\")"
      ],
      "execution_count": null,
      "outputs": [
        {
          "output_type": "execute_result",
          "data": {
            "text/plain": [
              "<matplotlib.axes._subplots.AxesSubplot at 0x7f7bb1843908>"
            ]
          },
          "metadata": {
            "tags": []
          },
          "execution_count": 32
        },
        {
          "output_type": "display_data",
          "data": {
            "image/png": "[encoded data removed]",
            "text/plain": [
              "<Figure size 432x288 with 2 Axes>"
            ]
          },
          "metadata": {
            "tags": [],
            "needs_background": "light"
          }
        }
      ]
    },
    {
      "cell_type": "code",
      "metadata": {
        "id": "tq0WS06JOEXP",
        "colab": {
          "base_uri": "https://localhost:8080/",
          "height": 663
        },
        "outputId": "6be6a8b5-f007-49bc-f802-df0de989bbe6"
      },
      "source": [
        "miss_plot(miss_ls,\"Random Forest music\")"
      ],
      "execution_count": null,
      "outputs": [
        {
          "output_type": "display_data",
          "data": {
            "image/png": "[encoded data removed]",
            "text/plain": [
              "<Figure size 1080x720 with 6 Axes>"
            ]
          },
          "metadata": {
            "tags": [],
            "needs_background": "light"
          }
        }
      ]
    },
    {
      "cell_type": "code",
      "metadata": {
        "id": "H-zdF85cZlgv"
      },
      "source": [
        "miss_ls = crossValidationMiss(musicSVM,music_processed_svm,9)"
      ],
      "execution_count": null,
      "outputs": []
    },
    {
      "cell_type": "code",
      "metadata": {
        "colab": {
          "base_uri": "https://localhost:8080/",
          "height": 282
        },
        "id": "z6GviTfWHu4e",
        "outputId": "2d9d7f29-2c14-4be1-f212-406d824daa5b"
      },
      "source": [
        "sns.heatmap(miss_ls,xticklabels=genres,yticklabels=genres,cmap=\"YlOrBr\")"
      ],
      "execution_count": null,
      "outputs": [
        {
          "output_type": "execute_result",
          "data": {
            "text/plain": [
              "<matplotlib.axes._subplots.AxesSubplot at 0x7f7bb1834fd0>"
            ]
          },
          "metadata": {
            "tags": []
          },
          "execution_count": 35
        },
        {
          "output_type": "display_data",
          "data": {
            "image/png": "[encoded data removed]",
            "text/plain": [
              "<Figure size 432x288 with 2 Axes>"
            ]
          },
          "metadata": {
            "tags": [],
            "needs_background": "light"
          }
        }
      ]
    },
    {
      "cell_type": "code",
      "metadata": {
        "id": "gopYQMoGZpdb",
        "colab": {
          "base_uri": "https://localhost:8080/",
          "height": 663
        },
        "outputId": "202ed8e8-c848-4b1c-bf5d-38f3e5575d63"
      },
      "source": [
        "miss_plot(miss_ls,\"SVM music\")"
      ],
      "execution_count": null,
      "outputs": [
        {
          "output_type": "display_data",
          "data": {
            "image/png": "[encoded data removed]",
            "text/plain": [
              "<Figure size 1080x720 with 6 Axes>"
            ]
          },
          "metadata": {
            "tags": [],
            "needs_background": "light"
          }
        }
      ]
    },
    {
      "cell_type": "code",
      "metadata": {
        "id": "N1tuI47Satar"
      },
      "source": [
        "miss_ls = crossValidationMiss(musicKNN,music_processed_knn,9)"
      ],
      "execution_count": null,
      "outputs": []
    },
    {
      "cell_type": "code",
      "metadata": {
        "colab": {
          "base_uri": "https://localhost:8080/",
          "height": 282
        },
        "id": "m_TStvysIC2x",
        "outputId": "b31820fd-0921-4aac-cdd8-0689822c5e3c"
      },
      "source": [
        "sns.heatmap(miss_ls,xticklabels=genres,yticklabels=genres,cmap=\"YlOrBr\")"
      ],
      "execution_count": null,
      "outputs": [
        {
          "output_type": "execute_result",
          "data": {
            "text/plain": [
              "<matplotlib.axes._subplots.AxesSubplot at 0x7f7bb1278cf8>"
            ]
          },
          "metadata": {
            "tags": []
          },
          "execution_count": 38
        },
        {
          "output_type": "display_data",
          "data": {
            "image/png": "[encoded data removed]",
            "text/plain": [
              "<Figure size 432x288 with 2 Axes>"
            ]
          },
          "metadata": {
            "tags": [],
            "needs_background": "light"
          }
        }
      ]
    },
    {
      "cell_type": "code",
      "metadata": {
        "id": "nChoi4XBbNQ7",
        "colab": {
          "base_uri": "https://localhost:8080/",
          "height": 663
        },
        "outputId": "fe9a605a-db23-4345-e459-69da9275d00a"
      },
      "source": [
        "miss_plot(miss_ls,\"KNN music\")"
      ],
      "execution_count": null,
      "outputs": [
        {
          "output_type": "display_data",
          "data": {
            "image/png": "[encoded data removed]",
            "text/plain": [
              "<Figure size 1080x720 with 6 Axes>"
            ]
          },
          "metadata": {
            "tags": [],
            "needs_background": "light"
          }
        }
      ]
    },
    {
      "cell_type": "code",
      "metadata": {
        "id": "ZMoDORj3VT72"
      },
      "source": [
        "miss_ls = crossValidationMiss(textRF,lyrics_processed_rf,9)"
      ],
      "execution_count": null,
      "outputs": []
    },
    {
      "cell_type": "code",
      "metadata": {
        "colab": {
          "base_uri": "https://localhost:8080/",
          "height": 282
        },
        "id": "NPe5A7j2IX33",
        "outputId": "9cd31801-8bad-45d7-e374-ec82d5a47685"
      },
      "source": [
        "sns.heatmap(miss_ls,xticklabels=genres,yticklabels=genres,cmap=\"YlOrBr\")"
      ],
      "execution_count": null,
      "outputs": [
        {
          "output_type": "execute_result",
          "data": {
            "text/plain": [
              "<matplotlib.axes._subplots.AxesSubplot at 0x7f7bb10279e8>"
            ]
          },
          "metadata": {
            "tags": []
          },
          "execution_count": 41
        },
        {
          "output_type": "display_data",
          "data": {
            "image/png": "[encoded data removed]",
            "text/plain": [
              "<Figure size 432x288 with 2 Axes>"
            ]
          },
          "metadata": {
            "tags": [],
            "needs_background": "light"
          }
        }
      ]
    },
    {
      "cell_type": "code",
      "metadata": {
        "id": "2T50FcYAVtLO",
        "colab": {
          "base_uri": "https://localhost:8080/",
          "height": 663
        },
        "outputId": "bc0c9d58-3838-4976-813c-374ee923b50c"
      },
      "source": [
        "miss_plot(miss_ls,\"Random Forest lyrics\")"
      ],
      "execution_count": null,
      "outputs": [
        {
          "output_type": "display_data",
          "data": {
            "image/png": "[encoded data removed]",
            "text/plain": [
              "<Figure size 1080x720 with 6 Axes>"
            ]
          },
          "metadata": {
            "tags": [],
            "needs_background": "light"
          }
        }
      ]
    },
    {
      "cell_type": "code",
      "metadata": {
        "id": "A92rbtVWYJjP"
      },
      "source": [
        "miss_ls = crossValidationMiss(textSVM,lyrics_processed_svm,9)"
      ],
      "execution_count": null,
      "outputs": []
    },
    {
      "cell_type": "code",
      "metadata": {
        "colab": {
          "base_uri": "https://localhost:8080/",
          "height": 286
        },
        "id": "Bp9Xu_ptIkC1",
        "outputId": "17b3678b-1feb-4d09-bf07-11366c7d99f0"
      },
      "source": [
        "sns.heatmap(miss_ls,xticklabels=genres,yticklabels=genres,cmap=\"YlOrBr\")"
      ],
      "execution_count": null,
      "outputs": [
        {
          "output_type": "execute_result",
          "data": {
            "text/plain": [
              "<matplotlib.axes._subplots.AxesSubplot at 0x7f7bb0d6e518>"
            ]
          },
          "metadata": {
            "tags": []
          },
          "execution_count": 44
        },
        {
          "output_type": "display_data",
          "data": {
            "image/png": "[encoded data removed]",
            "text/plain": [
              "<Figure size 432x288 with 2 Axes>"
            ]
          },
          "metadata": {
            "tags": [],
            "needs_background": "light"
          }
        }
      ]
    },
    {
      "cell_type": "code",
      "metadata": {
        "id": "38EbTfI1Ywp-",
        "colab": {
          "base_uri": "https://localhost:8080/",
          "height": 663
        },
        "outputId": "005619b9-9827-4361-ac37-9681e9b31296"
      },
      "source": [
        "miss_plot(miss_ls,\"Logistic Regression lyrics\")"
      ],
      "execution_count": null,
      "outputs": [
        {
          "output_type": "display_data",
          "data": {
            "image/png": "[encoded data removed]",
            "text/plain": [
              "<Figure size 1080x720 with 6 Axes>"
            ]
          },
          "metadata": {
            "tags": [],
            "needs_background": "light"
          }
        }
      ]
    },
    {
      "cell_type": "code",
      "metadata": {
        "id": "QgAsehQNbZb5"
      },
      "source": [
        "miss_ls = crossValidationMiss(textNBC,lyrics_processed_nbc,9)"
      ],
      "execution_count": null,
      "outputs": []
    },
    {
      "cell_type": "code",
      "metadata": {
        "colab": {
          "base_uri": "https://localhost:8080/",
          "height": 282
        },
        "id": "lpwFW43EJhT2",
        "outputId": "a50de734-0982-4309-f345-b2ed3b75486f"
      },
      "source": [
        "sns.heatmap(miss_ls,xticklabels=genres,yticklabels=genres,cmap=\"YlOrBr\")"
      ],
      "execution_count": null,
      "outputs": [
        {
          "output_type": "execute_result",
          "data": {
            "text/plain": [
              "<matplotlib.axes._subplots.AxesSubplot at 0x7f7bb0ab4278>"
            ]
          },
          "metadata": {
            "tags": []
          },
          "execution_count": 47
        },
        {
          "output_type": "display_data",
          "data": {
            "image/png": "[encoded data removed]",
            "text/plain": [
              "<Figure size 432x288 with 2 Axes>"
            ]
          },
          "metadata": {
            "tags": [],
            "needs_background": "light"
          }
        }
      ]
    },
    {
      "cell_type": "code",
      "metadata": {
        "id": "NP_Vr5VMbZnC",
        "colab": {
          "base_uri": "https://localhost:8080/",
          "height": 663
        },
        "outputId": "8a29a3ca-f118-471a-c261-29077160672c"
      },
      "source": [
        "miss_plot(miss_ls,\"Naive Bayes lyrics\")"
      ],
      "execution_count": null,
      "outputs": [
        {
          "output_type": "display_data",
          "data": {
            "image/png": "[encoded data removed]",
            "text/plain": [
              "<Figure size 1080x720 with 6 Axes>"
            ]
          },
          "metadata": {
            "tags": [],
            "needs_background": "light"
          }
        }
      ]
    },
    {
      "cell_type": "code",
      "metadata": {
        "id": "4oOAvC9QlJ_j"
      },
      "source": [
        "def missclassify_ids_list(predictions, test_y):\r\n",
        "    n = len(test_y)\r\n",
        "    nums = np.arange(0,n)\r\n",
        "    return list(nums[predictions != test_y])\r\n",
        "\r\n",
        "def genre_missclassify_ids(model,df):\r\n",
        "  df_x,df_y = testGen(df)\r\n",
        "  miss_dict = {}\r\n",
        "  for i in range(len(genres)):\r\n",
        "    gen = genres[i]\r\n",
        "    df_x_temp = df_x.loc[df_y == gen]\r\n",
        "    df_y_temp = df_y.loc[df_y == gen]\r\n",
        "    miss_dict[gen] = missclassify_ids_list(model.predict(df_x_temp),df_y_temp)\r\n",
        "  return miss_dict\r\n"
      ],
      "execution_count": null,
      "outputs": []
    },
    {
      "cell_type": "code",
      "metadata": {
        "id": "ozjjDb9blr9u",
        "colab": {
          "base_uri": "https://localhost:8080/"
        },
        "outputId": "c2907fbc-9eaf-48ec-a29f-b9186cc866a6"
      },
      "source": [
        "genre_missclassify_ids(music_model_rf,music_processed_rf)"
      ],
      "execution_count": null,
      "outputs": [
        {
          "output_type": "execute_result",
          "data": {
            "text/plain": [
              "{'blues': [1],\n",
              " 'country': [2, 6],\n",
              " 'hiphop': [4, 7],\n",
              " 'reggae': [1, 5, 6, 7],\n",
              " 'rock': [2, 4, 6]}"
            ]
          },
          "metadata": {
            "tags": []
          },
          "execution_count": 50
        }
      ]
    },
    {
      "cell_type": "code",
      "metadata": {
        "id": "gAlXEm1Imf4n",
        "colab": {
          "base_uri": "https://localhost:8080/"
        },
        "outputId": "5267606a-51bb-4198-bd69-c806fe56754d"
      },
      "source": [
        "genre_missclassify_ids(music_model_knn,music_processed_knn)"
      ],
      "execution_count": null,
      "outputs": [
        {
          "output_type": "execute_result",
          "data": {
            "text/plain": [
              "{'blues': [1, 6],\n",
              " 'country': [0],\n",
              " 'hiphop': [1, 3, 4, 9],\n",
              " 'reggae': [0, 5, 7, 8],\n",
              " 'rock': [2, 6]}"
            ]
          },
          "metadata": {
            "tags": []
          },
          "execution_count": 51
        }
      ]
    },
    {
      "cell_type": "code",
      "metadata": {
        "id": "9fV1iM5GmmX1",
        "colab": {
          "base_uri": "https://localhost:8080/"
        },
        "outputId": "e9c72aee-02a1-4d03-853d-2602fc1ab1bf"
      },
      "source": [
        "genre_missclassify_ids(music_model_svm,music_processed_svm)"
      ],
      "execution_count": null,
      "outputs": [
        {
          "output_type": "execute_result",
          "data": {
            "text/plain": [
              "{'blues': [1, 3],\n",
              " 'country': [],\n",
              " 'hiphop': [2, 4, 5],\n",
              " 'reggae': [0, 1, 5, 7],\n",
              " 'rock': [2, 6]}"
            ]
          },
          "metadata": {
            "tags": []
          },
          "execution_count": 52
        }
      ]
    },
    {
      "cell_type": "code",
      "metadata": {
        "id": "U02SQtlMmwm_",
        "colab": {
          "base_uri": "https://localhost:8080/"
        },
        "outputId": "a8781d7b-d008-4577-bfa0-53f8aebeb2bd"
      },
      "source": [
        "genre_missclassify_ids(lyrics_model_rf,lyrics_processed_rf)"
      ],
      "execution_count": null,
      "outputs": [
        {
          "output_type": "execute_result",
          "data": {
            "text/plain": [
              "{'blues': [6, 7, 8],\n",
              " 'country': [2, 8, 9],\n",
              " 'hiphop': [5],\n",
              " 'reggae': [5],\n",
              " 'rock': [0, 3, 4, 5, 8, 9]}"
            ]
          },
          "metadata": {
            "tags": []
          },
          "execution_count": 53
        }
      ]
    },
    {
      "cell_type": "code",
      "metadata": {
        "id": "luioosI4mwzd",
        "colab": {
          "base_uri": "https://localhost:8080/"
        },
        "outputId": "d4df27ee-4cbb-4356-d3d9-f9085c0fa474"
      },
      "source": [
        "genre_missclassify_ids(lyrics_model_nbc,lyrics_processed_nbc)"
      ],
      "execution_count": null,
      "outputs": [
        {
          "output_type": "execute_result",
          "data": {
            "text/plain": [
              "{'blues': [3, 7, 8, 9],\n",
              " 'country': [1, 2, 6],\n",
              " 'hiphop': [4],\n",
              " 'reggae': [3],\n",
              " 'rock': [2, 3, 4, 5, 7, 8, 9]}"
            ]
          },
          "metadata": {
            "tags": []
          },
          "execution_count": 54
        }
      ]
    },
    {
      "cell_type": "code",
      "metadata": {
        "id": "f1LOkSOzmw-K",
        "colab": {
          "base_uri": "https://localhost:8080/"
        },
        "outputId": "86b3dddd-31fa-4946-99f5-479fc2c8819e"
      },
      "source": [
        "genre_missclassify_ids(lyrics_model_svm,lyrics_processed_svm)"
      ],
      "execution_count": null,
      "outputs": [
        {
          "output_type": "execute_result",
          "data": {
            "text/plain": [
              "{'blues': [7, 8], 'country': [6, 9], 'hiphop': [1], 'reggae': [3], 'rock': [3]}"
            ]
          },
          "metadata": {
            "tags": []
          },
          "execution_count": 55
        }
      ]
    }
  ]
}